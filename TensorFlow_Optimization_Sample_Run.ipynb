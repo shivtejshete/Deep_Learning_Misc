{
  "nbformat": 4,
  "nbformat_minor": 0,
  "metadata": {
    "colab": {
      "name": "TensorFlow Optimization Sample Run.ipynb",
      "provenance": [],
      "authorship_tag": "ABX9TyP3jmMSvgfFVjOmBAmh9sUW"
    },
    "kernelspec": {
      "name": "python3",
      "display_name": "Python 3"
    }
  },
  "cells": [
    {
      "cell_type": "code",
      "metadata": {
        "colab": {
          "base_uri": "https://localhost:8080/"
        },
        "id": "l-PhUDXsLbgs",
        "outputId": "06e882d3-112d-48c9-8dcc-f70331d338fb"
      },
      "source": [
        "import numpy as np\n",
        "import tensorflow as tf\n",
        "print(tf.__version__)"
      ],
      "execution_count": 2,
      "outputs": [
        {
          "output_type": "stream",
          "text": [
            "2.3.0\n"
          ],
          "name": "stdout"
        }
      ]
    },
    {
      "cell_type": "code",
      "metadata": {
        "colab": {
          "base_uri": "https://localhost:8080/"
        },
        "id": "_LDqRiLYLsna",
        "outputId": "765ce721-1651-44da-e410-51f6cef62bf4"
      },
      "source": [
        "#fixed training values \n",
        "\n",
        "\n",
        "w = tf.Variable(1.0)\n",
        "print(w.numpy())\n",
        "cost = lambda: ((w ** 2) - 10*w + 25)\n",
        "# cost = tf.add(tf.add(w**2, tf.multiply(-10,w)), 25)\n",
        "# cost = w**2 - 10*w+25  #(w-5)^2\n",
        "train = tf.keras.optimizers.SGD(learning_rate=0.01, momentum=0.9 , )\n",
        "train.minimize(loss= cost, var_list= [w]).numpy()  #execute one cycle of SGD"
      ],
      "execution_count": 46,
      "outputs": [
        {
          "output_type": "stream",
          "text": [
            "1.0\n"
          ],
          "name": "stdout"
        },
        {
          "output_type": "execute_result",
          "data": {
            "text/plain": [
              "1"
            ]
          },
          "metadata": {
            "tags": []
          },
          "execution_count": 46
        }
      ]
    },
    {
      "cell_type": "code",
      "metadata": {
        "id": "7iKqD3y9RHi_"
      },
      "source": [
        "for i in range(1000):\n",
        "  train.minimize(loss= cost, var_list= [w]).numpy()"
      ],
      "execution_count": 47,
      "outputs": []
    },
    {
      "cell_type": "code",
      "metadata": {
        "colab": {
          "base_uri": "https://localhost:8080/"
        },
        "id": "ODtGi67lRmOf",
        "outputId": "3657c35b-f9a9-4a27-cd5f-7f4e411e21ee"
      },
      "source": [
        "w"
      ],
      "execution_count": 48,
      "outputs": [
        {
          "output_type": "execute_result",
          "data": {
            "text/plain": [
              "<tf.Variable 'Variable:0' shape=() dtype=float32, numpy=4.999999>"
            ]
          },
          "metadata": {
            "tags": []
          },
          "execution_count": 48
        }
      ]
    }
  ]
}